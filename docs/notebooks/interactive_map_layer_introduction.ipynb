{
 "cells": [
  {
   "cell_type": "markdown",
   "id": "historic-consortium",
   "metadata": {},
   "source": [
    "**This notebook shows how to perform read & write operations on Interactive Map Layers.**"
   ]
  },
  {
   "cell_type": "markdown",
   "id": "underlying-interstate",
   "metadata": {},
   "source": [
    "<div class=\"alert alert-block alert-warning\">\n",
    "<b>Warning:</b> Before running below cells please make sure you have access to HERE platform.\n",
    "                For credentials setup follow below steps:\n",
    "                <ol>\n",
    "                  <li>Go to <a href=\"https://platform.here.com/profile/apps-and-keys\">HERE Platform Applications and Keys</a> and register a new app.</li>\n",
    "                  <li>Create a key for the app and download the generated credentials.properties file</li>\n",
    "                  <li>copy values from credentials.properties file into environment variables HERE_USER_ID, HERE_CLIENT_ID, HERE_ACCESS_KEY_ID, HERE_ACCESS_KEY_SECRET\n",
    "HERE_TOKEN_ENDPOINT_URL</li>\n",
    "                </ol>\n",
    "                Please check this <a href=\"https://developer.here.com/documentation/identity-access-management/dev_guide/index.html\">link</a> for more information on platform authentication.\n",
    "</div>"
   ]
  },
  {
   "cell_type": "code",
   "execution_count": null,
   "id": "earlier-measure",
   "metadata": {},
   "outputs": [],
   "source": [
    "# uncomment the below cell and replace actual values from credentials.properties file"
   ]
  },
  {
   "cell_type": "code",
   "execution_count": null,
   "id": "opening-president",
   "metadata": {},
   "outputs": [],
   "source": [
    "# import os\n",
    "\n",
    "# os.environ[\"HERE_USER_ID\"] = \"Replace value here from credentials.properties file\"\n",
    "# os.environ[\"HERE_CLIENT_ID\"] = \"Replace value here from credentials.properties file\"\n",
    "# os.environ[\"HERE_ACCESS_KEY_ID\"] = \"Replace value here from credentials.properties file\"\n",
    "# os.environ[\"HERE_ACCESS_KEY_SECRET\"] = \"Replace value here from credentials.properties file\"\n",
    "# os.environ[\"HERE_TOKEN_ENDPOINT_URL\"] = \"Replace value here from credentials.properties file\""
   ]
  },
  {
   "cell_type": "code",
   "execution_count": null,
   "id": "forty-trade",
   "metadata": {},
   "outputs": [],
   "source": [
    "from xyzspaces import IML\n",
    "from xyzspaces.iml.credentials import Credentials"
   ]
  },
  {
   "cell_type": "markdown",
   "id": "chief-anaheim",
   "metadata": {},
   "source": [
    "## Create a new catalog and interactive map layer"
   ]
  },
  {
   "cell_type": "code",
   "execution_count": null,
   "id": "hungarian-bulgaria",
   "metadata": {},
   "outputs": [],
   "source": [
    "# Details of the new interactive map layer.\n",
    "\n",
    "layer_details = {\n",
    "    \"id\": \"countries\",\n",
    "    \"name\": \"countries\",\n",
    "    \"summary\": \"Borders of world countries.\",\n",
    "    \"description\": \"Borders of world countries\",\n",
    "    \"layerType\": \"interactivemap\",\n",
    "    \"interactiveMapProperties\": {},\n",
    "}"
   ]
  },
  {
   "cell_type": "code",
   "execution_count": null,
   "id": "electronic-discipline",
   "metadata": {},
   "outputs": [],
   "source": [
    "# Create a new interactive map layer and catalog.\n",
    "\n",
    "credentials = Credentials.from_env()\n",
    "\n",
    "iml = IML.new(\n",
    "    catalog_id=\"test-catalog-iml-demo\",\n",
    "    catalog_name=\"test-catalog-iml-demo\",\n",
    "    catalog_summary=\"This is catalog for demo\",\n",
    "    catalog_description=\"This is catalog for demo.\",\n",
    "    layer_details=layer_details,\n",
    "    credentials=credentials,\n",
    ")"
   ]
  },
  {
   "cell_type": "code",
   "execution_count": null,
   "id": "broadband-magnet",
   "metadata": {},
   "outputs": [],
   "source": [
    "iml.layer"
   ]
  },
  {
   "cell_type": "markdown",
   "id": "ordinary-cheese",
   "metadata": {},
   "source": [
    "<div class=\"alert alert-block alert-warning\">\n",
    "<b>Warning:</b> Before running below cell please make sure you have API key. \n",
    "                Please see <a href=\"https://github.com/heremaps/here-map-widget-for-jupyter/blob/master/examples/README.md\">README.md</a> for more info on API key.\n",
    "</div>"
   ]
  },
  {
   "cell_type": "code",
   "execution_count": null,
   "id": "thermal-breed",
   "metadata": {},
   "outputs": [],
   "source": [
    "import os\n",
    "\n",
    "os.environ[\"LS_API_KEY\"] = \"YOUR-API-KEY\"  # replace your api key here."
   ]
  },
  {
   "cell_type": "code",
   "execution_count": null,
   "id": "geographic-marathon",
   "metadata": {},
   "outputs": [],
   "source": [
    "from here_map_widget import Map, GeoJSON\n",
    "\n",
    "\n",
    "def get_map(data, zoom=2, center=(0, 0)):\n",
    "    m = Map(api_key=os.environ[\"LS_API_KEY\"], zoom=zoom, center=center)\n",
    "    geojson = GeoJSON(data=data)\n",
    "    m.add_layer(geojson)\n",
    "    return m"
   ]
  },
  {
   "cell_type": "code",
   "execution_count": null,
   "id": "ambient-injury",
   "metadata": {},
   "outputs": [],
   "source": [
    "import requests\n",
    "\n",
    "countries = requests.get(\n",
    "    \"https://raw.githubusercontent.com/johan/world.geo.json/master/countries.geo.json\"\n",
    ").json()"
   ]
  },
  {
   "cell_type": "code",
   "execution_count": null,
   "id": "pacific-bouquet",
   "metadata": {},
   "outputs": [],
   "source": [
    "m = get_map(data=countries)\n",
    "m"
   ]
  },
  {
   "cell_type": "markdown",
   "id": "exposed-cradle",
   "metadata": {},
   "source": [
    "## Write countries data to interactive map layer."
   ]
  },
  {
   "cell_type": "code",
   "execution_count": null,
   "id": "handled-facing",
   "metadata": {},
   "outputs": [],
   "source": [
    "iml.layer.write_features(features=countries)"
   ]
  },
  {
   "cell_type": "markdown",
   "id": "numerical-caribbean",
   "metadata": {},
   "source": [
    "## Check statistics of the layer"
   ]
  },
  {
   "cell_type": "code",
   "execution_count": null,
   "id": "ultimate-universe",
   "metadata": {},
   "outputs": [],
   "source": [
    "iml.layer.statistics"
   ]
  },
  {
   "cell_type": "markdown",
   "id": "neutral-english",
   "metadata": {},
   "source": [
    "## Get single feature from interactive map layer."
   ]
  },
  {
   "cell_type": "code",
   "execution_count": null,
   "id": "middle-cornell",
   "metadata": {},
   "outputs": [],
   "source": [
    "resp = iml.layer.get_feature(feature_id=\"IND\")\n",
    "feature = resp.to_geojson()"
   ]
  },
  {
   "cell_type": "code",
   "execution_count": null,
   "id": "reflected-green",
   "metadata": {},
   "outputs": [],
   "source": [
    "m = get_map(data=feature)\n",
    "m"
   ]
  },
  {
   "cell_type": "markdown",
   "id": "confirmed-conservation",
   "metadata": {},
   "source": [
    "## Get multiple features from interactive map layer."
   ]
  },
  {
   "cell_type": "code",
   "execution_count": null,
   "id": "mighty-bankruptcy",
   "metadata": {},
   "outputs": [],
   "source": [
    "resp = iml.layer.get_features(feature_ids=[\"IND\", \"USA\", \"DEU\"])\n",
    "features = resp.to_geojson()"
   ]
  },
  {
   "cell_type": "code",
   "execution_count": null,
   "id": "focal-terrain",
   "metadata": {},
   "outputs": [],
   "source": [
    "m = get_map(data=features, center=(33.3965, 2.3222))\n",
    "m"
   ]
  },
  {
   "cell_type": "markdown",
   "id": "incredible-community",
   "metadata": {},
   "source": [
    "## Iterate over & inspect all features in a layer"
   ]
  },
  {
   "cell_type": "code",
   "execution_count": null,
   "id": "iraqi-diploma",
   "metadata": {},
   "outputs": [],
   "source": [
    "from geojson import FeatureCollection\n",
    "\n",
    "features = list(iml.layer.iter_features())\n",
    "fc = FeatureCollection(features=features)\n",
    "m = get_map(data=fc, center=(33.3965, 2.3222))\n",
    "m"
   ]
  },
  {
   "cell_type": "markdown",
   "id": "signal-laser",
   "metadata": {},
   "source": [
    "## Search features from layer based on their properties"
   ]
  },
  {
   "cell_type": "code",
   "execution_count": null,
   "id": "bacterial-pierce",
   "metadata": {},
   "outputs": [],
   "source": [
    "resp = iml.layer.search_features(\n",
    "    params={\"p.name\": [\"India\", \"United States of America\", \"Australia\", \"Germany\"]}\n",
    ")\n",
    "searched_features = resp.to_geojson()\n",
    "m = get_map(data=searched_features, center=(33.3965, 2.3222))\n",
    "m"
   ]
  },
  {
   "cell_type": "markdown",
   "id": "floating-bulgarian",
   "metadata": {},
   "source": [
    "## Get features in a bounding box"
   ]
  },
  {
   "cell_type": "code",
   "execution_count": null,
   "id": "national-teaching",
   "metadata": {},
   "outputs": [],
   "source": [
    "bbox = (68.1766451354, 7.96553477623, 97.4025614766, 35.4940095078)\n",
    "\n",
    "resp = iml.layer.get_features_in_bounding_box(bbox)\n",
    "bbox_features = resp.to_geojson()\n",
    "\n",
    "m = get_map(data=bbox_features, center=(33.3965, 2.3222))\n",
    "m"
   ]
  },
  {
   "cell_type": "markdown",
   "id": "available-raising",
   "metadata": {},
   "source": [
    "## Spatial search within radius"
   ]
  },
  {
   "cell_type": "code",
   "execution_count": null,
   "id": "exposed-insert",
   "metadata": {},
   "outputs": [],
   "source": [
    "resp = iml.layer.spatial_search(lat=0, lng=30, radius=1000000)\n",
    "\n",
    "radius_search = resp.to_geojson()\n",
    "\n",
    "\n",
    "m = get_map(data=radius_search, center=(33.3965, 2.3222))\n",
    "m"
   ]
  },
  {
   "cell_type": "markdown",
   "id": "comprehensive-southeast",
   "metadata": {},
   "source": [
    "## Spatial search using Geometry Intersection"
   ]
  },
  {
   "cell_type": "code",
   "execution_count": null,
   "id": "requested-maldives",
   "metadata": {},
   "outputs": [],
   "source": [
    "from geojson import Point, Feature\n",
    "\n",
    "pt = Point((73, 19))\n",
    "resp = iml.layer.spatial_search_geometry(geometry=pt)\n",
    "geometry_search = resp.to_geojson()\n",
    "\n",
    "m = get_map(data=geometry_search, center=(33.3965, 2.3222))\n",
    "m"
   ]
  },
  {
   "cell_type": "code",
   "execution_count": null,
   "id": "needed-crack",
   "metadata": {},
   "outputs": [],
   "source": [
    "# Delete the catalog\n",
    "\n",
    "iml.delete_catalog(\n",
    "    catalog_hrn=\"hrn:here:data::olp-here:test-catalog-iml-demo\", credentials=credentials\n",
    ")"
   ]
  }
 ],
 "metadata": {
  "kernelspec": {
   "display_name": "Python 3",
   "language": "python",
   "name": "python3"
  },
  "language_info": {
   "codemirror_mode": {
    "name": "ipython",
    "version": 3
   },
   "file_extension": ".py",
   "mimetype": "text/x-python",
   "name": "python",
   "nbconvert_exporter": "python",
   "pygments_lexer": "ipython3",
   "version": "3.8.5"
  }
 },
 "nbformat": 4,
 "nbformat_minor": 5
}
