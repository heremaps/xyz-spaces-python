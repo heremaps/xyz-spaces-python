{
 "cells": [
  {
   "cell_type": "markdown",
   "id": "tight-upper",
   "metadata": {},
   "source": [
    "# Configurations\n",
    "\n",
    "This notebook demonstrates various ways to configure `xyzspaces`"
   ]
  },
  {
   "cell_type": "markdown",
   "id": "coordinate-framework",
   "metadata": {},
   "source": [
    "## Default configuration\n",
    "In default configurations `XYZ_TOKEN` will be read from environment variable and other configurations options such as Data Hub URL and http headers will be taken as default values."
   ]
  },
  {
   "cell_type": "code",
   "execution_count": null,
   "id": "seasonal-practitioner",
   "metadata": {},
   "outputs": [],
   "source": [
    "from xyzspaces import XYZ"
   ]
  },
  {
   "cell_type": "markdown",
   "id": "liberal-fashion",
   "metadata": {},
   "source": [
    "Default configuration expects `XYZ_TOKEN` is exported in environment vairable and you just need to instantiate an object of XYZ class as shown below."
   ]
  },
  {
   "cell_type": "code",
   "execution_count": null,
   "id": "russian-sheffield",
   "metadata": {},
   "outputs": [],
   "source": [
    "xyz = XYZ()"
   ]
  },
  {
   "cell_type": "markdown",
   "id": "portable-fundamental",
   "metadata": {},
   "source": [
    "## User defined configuration using config object\n",
    "You can create object of `XYZConfig` and define the configuration as shown below. The user defined configuration is required when you are hosting Data Hub APIs in on your own in separate instance. "
   ]
  },
  {
   "cell_type": "code",
   "execution_count": null,
   "id": "offshore-buffalo",
   "metadata": {},
   "outputs": [],
   "source": [
    "from xyzspaces import XYZ\n",
    "from xyzspaces.config.default_config import XYZConfig"
   ]
  },
  {
   "cell_type": "code",
   "execution_count": null,
   "id": "associate-playback",
   "metadata": {},
   "outputs": [],
   "source": [
    "config_dict = {\n",
    "    \"credentials\": {\"XYZ_TOKEN\": \"MY-XYZ-TOKEN\"},\n",
    "    \"http_headers\": {\n",
    "        \"Authorization\": \"Bearer MY-XYZ-TOKEN\",\n",
    "        \"Content-Type\": \"application/geo+json\",\n",
    "    },\n",
    "    \"url\": \"https://xyz.api.here.com\",\n",
    "}\n",
    "\n",
    "config = XYZConfig(**config_dict)\n",
    "xyz = XYZ(config=config)"
   ]
  },
  {
   "cell_type": "markdown",
   "id": "confidential-newspaper",
   "metadata": {},
   "source": [
    "## User defined configuration using json file\n",
    "You can read configuration from json file."
   ]
  },
  {
   "cell_type": "code",
   "execution_count": null,
   "id": "adequate-writing",
   "metadata": {},
   "outputs": [],
   "source": [
    "from xyzspaces import XYZ\n",
    "from xyzspaces.config.default_config import XYZConfig\n",
    "\n",
    "xyz_config = XYZConfig.from_file(\"data/xyz_configuration.json\")"
   ]
  },
  {
   "cell_type": "code",
   "execution_count": null,
   "id": "cosmetic-buying",
   "metadata": {},
   "outputs": [],
   "source": [
    "xyz = XYZ(config=xyz_config)"
   ]
  }
 ],
 "metadata": {
  "kernelspec": {
   "display_name": "Python 3",
   "language": "python",
   "name": "python3"
  },
  "language_info": {
   "codemirror_mode": {
    "name": "ipython",
    "version": 3
   },
   "file_extension": ".py",
   "mimetype": "text/x-python",
   "name": "python",
   "nbconvert_exporter": "python",
   "pygments_lexer": "ipython3",
   "version": "3.8.5"
  }
 },
 "nbformat": 4,
 "nbformat_minor": 5
}
